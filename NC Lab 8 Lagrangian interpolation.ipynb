{
 "cells": [
  {
   "cell_type": "code",
   "execution_count": 24,
   "metadata": {},
   "outputs": [
    {
     "name": "stdout",
     "output_type": "stream",
     "text": [
      "Enter a number 10\n",
      "14.666666666666666\n"
     ]
    }
   ],
   "source": [
    "import math as m\n",
    "import numpy as np\n",
    "x = np.array([5,6,9,11])\n",
    "y = np.array([12,13,14,16])\n",
    "xin = int(input(\"Enter a number \"))\n",
    "result = 0\n",
    "for i in range(len(x)):\n",
    "    y1 = 1\n",
    "    for j in range(len(x)):\n",
    "        if i != j:\n",
    "            y1 *= ((xin-x[j])/(x[i]-x[j]))\n",
    "    result += (y1*y[i])\n",
    "print(result)"
   ]
  },
  {
   "cell_type": "code",
   "execution_count": null,
   "metadata": {},
   "outputs": [],
   "source": [
    "y1 = ((xin-x[counter])*(xin-x[counter])*(xin-x[counter]))/((x[i]-x[counter])*(x[i]-x[counter])*(x[i]-x[counter]))\n",
    "    "
   ]
  }
 ],
 "metadata": {
  "kernelspec": {
   "display_name": "Python 3",
   "language": "python",
   "name": "python3"
  },
  "language_info": {
   "codemirror_mode": {
    "name": "ipython",
    "version": 3
   },
   "file_extension": ".py",
   "mimetype": "text/x-python",
   "name": "python",
   "nbconvert_exporter": "python",
   "pygments_lexer": "ipython3",
   "version": "3.7.3"
  }
 },
 "nbformat": 4,
 "nbformat_minor": 2
}
